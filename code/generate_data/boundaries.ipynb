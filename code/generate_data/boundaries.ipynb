{
  "nbformat": 4,
  "nbformat_minor": 0,
  "metadata": {
    "colab": {
      "provenance": []
    },
    "kernelspec": {
      "name": "python3",
      "display_name": "Python 3"
    },
    "language_info": {
      "name": "python"
    }
  },
  "cells": [
    {
      "cell_type": "code",
      "source": [
        "try:\n",
        "    import google.colab  # noqa: F401\n",
        "except ImportError:\n",
        "    import dolfin\n",
        "else:\n",
        "    try:\n",
        "        import dolfin\n",
        "    except ImportError:\n",
        "        !wget \"https://fem-on-colab.github.io/releases/fenics-install.sh\" -O \"/tmp/fenics-install.sh\" && bash \"/tmp/fenics-install.sh\"\n",
        "        import dolfin\n",
        "\n",
        "import mshr\n",
        "import fenics as fe"
      ],
      "metadata": {
        "id": "-DpzRPu7lia_"
      },
      "execution_count": null,
      "outputs": []
    },
    {
      "cell_type": "code",
      "source": [
        "def get_length(mesh):\n",
        "\n",
        "  x_coords = mesh.coordinates()[:, 0]\n",
        "  length = x_coords.max() - x_coords.min()\n",
        "\n",
        "  return length"
      ],
      "metadata": {
        "id": "SjurEkrYwSO4"
      },
      "execution_count": 4,
      "outputs": []
    },
    {
      "cell_type": "code",
      "execution_count": 5,
      "metadata": {
        "id": "abuQ6j5wkGuJ"
      },
      "outputs": [],
      "source": [
        "def define_boundaries(mesh):\n",
        "\n",
        "    length = get_length(mesh)\n",
        "\n",
        "    class Inflow(fe.SubDomain):\n",
        "        def inside(self, x, on_boundary):\n",
        "            return on_boundary and fe.near(x[0], 0)\n",
        "\n",
        "    class Walls(fe.SubDomain):\n",
        "        def inside(self, x, on_boundary):\n",
        "          return on_boundary and x[0] > 0 and x[0] < length\n",
        "\n",
        "    class Outflow(fe.SubDomain):\n",
        "        def inside(self, x, on_boundary):\n",
        "            return on_boundary and fe.near(x[0], length)\n",
        "\n",
        "    boundaries = fe.MeshFunction('size_t', mesh, mesh.topology().dim() - 1)\n",
        "    boundaries.set_all(0)\n",
        "\n",
        "    inflow_domain = Inflow()\n",
        "    walls_domain = Walls()\n",
        "    outflow_domain = Outflow()\n",
        "\n",
        "    inflow_domain.mark(boundaries, 1)   # Mark inflow with '1'\n",
        "    walls_domain.mark(boundaries, 2)    # Mark walls with '2'\n",
        "    outflow_domain.mark(boundaries, 3)  # Mark outflow with '3'\n",
        "\n",
        "    return boundaries"
      ]
    }
  ]
}